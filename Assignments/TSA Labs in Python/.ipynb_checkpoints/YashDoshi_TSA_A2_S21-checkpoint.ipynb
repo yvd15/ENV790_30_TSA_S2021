{
 "cells": [
  {
   "cell_type": "markdown",
   "metadata": {},
   "source": [
    "# ENV 790.30 - Time Series Analysis for Energy Data | Spring 2021\n",
    "\n",
    "## Assignment 2\n",
    "\n",
    "### Instructor: Luana Lima\n",
    "\n",
    "### Student Name: Yash Doshi"
   ]
  },
  {
   "cell_type": "code",
   "execution_count": 1,
   "metadata": {},
   "outputs": [],
   "source": [
    "import pandas as pd\n",
    "import numpy as np\n",
    "from datetime import datetime\n",
    "import matplotlib as mpl\n",
    "import matplotlib.pyplot as plt\n",
    "import statsmodels.api as sm\n",
    "from statsmodels.graphics.tsaplots import plot_pacf"
   ]
  },
  {
   "cell_type": "code",
   "execution_count": 2,
   "metadata": {},
   "outputs": [
    {
     "data": {
      "text/html": [
       "<div>\n",
       "<style scoped>\n",
       "    .dataframe tbody tr th:only-of-type {\n",
       "        vertical-align: middle;\n",
       "    }\n",
       "\n",
       "    .dataframe tbody tr th {\n",
       "        vertical-align: top;\n",
       "    }\n",
       "\n",
       "    .dataframe thead th {\n",
       "        text-align: right;\n",
       "    }\n",
       "</style>\n",
       "<table border=\"1\" class=\"dataframe\">\n",
       "  <thead>\n",
       "    <tr style=\"text-align: right;\">\n",
       "      <th></th>\n",
       "      <th>Month</th>\n",
       "      <th>Wood Energy Production (Trillion Btu)</th>\n",
       "      <th>Biofuels Production (Trillion Btu)</th>\n",
       "      <th>Total Biomass Energy Production (Trillion Btu)</th>\n",
       "      <th>Total Renewable Energy Production (Trillion Btu)</th>\n",
       "      <th>Hydroelectric Power Consumption (Trillion Btu)</th>\n",
       "      <th>Geothermal Energy Consumption (Trillion Btu)</th>\n",
       "      <th>Solar Energy Consumption (Trillion Btu)</th>\n",
       "      <th>Wind Energy Consumption (Trillion Btu)</th>\n",
       "      <th>Wood Energy Consumption (Trillion Btu)</th>\n",
       "      <th>Waste Energy Consumption (Trillion Btu)</th>\n",
       "      <th>Biofuels Consumption (Trillion Btu)</th>\n",
       "      <th>Total Biomass Energy Consumption (Trillion Btu)</th>\n",
       "      <th>Total Renewable Energy Consumption (Trillion Btu)</th>\n",
       "    </tr>\n",
       "  </thead>\n",
       "  <tbody>\n",
       "    <tr>\n",
       "      <th>0</th>\n",
       "      <td>1973-01-01</td>\n",
       "      <td>129.630</td>\n",
       "      <td>Not Available</td>\n",
       "      <td>129.787</td>\n",
       "      <td>403.981</td>\n",
       "      <td>272.703</td>\n",
       "      <td>1.491</td>\n",
       "      <td>Not Available</td>\n",
       "      <td>Not Available</td>\n",
       "      <td>129.630</td>\n",
       "      <td>0.157</td>\n",
       "      <td>Not Available</td>\n",
       "      <td>129.787</td>\n",
       "      <td>403.981</td>\n",
       "    </tr>\n",
       "    <tr>\n",
       "      <th>1</th>\n",
       "      <td>1973-02-01</td>\n",
       "      <td>117.194</td>\n",
       "      <td>Not Available</td>\n",
       "      <td>117.338</td>\n",
       "      <td>360.900</td>\n",
       "      <td>242.199</td>\n",
       "      <td>1.363</td>\n",
       "      <td>Not Available</td>\n",
       "      <td>Not Available</td>\n",
       "      <td>117.194</td>\n",
       "      <td>0.144</td>\n",
       "      <td>Not Available</td>\n",
       "      <td>117.338</td>\n",
       "      <td>360.900</td>\n",
       "    </tr>\n",
       "    <tr>\n",
       "      <th>2</th>\n",
       "      <td>1973-03-01</td>\n",
       "      <td>129.763</td>\n",
       "      <td>Not Available</td>\n",
       "      <td>129.938</td>\n",
       "      <td>400.161</td>\n",
       "      <td>268.810</td>\n",
       "      <td>1.412</td>\n",
       "      <td>Not Available</td>\n",
       "      <td>Not Available</td>\n",
       "      <td>129.763</td>\n",
       "      <td>0.176</td>\n",
       "      <td>Not Available</td>\n",
       "      <td>129.938</td>\n",
       "      <td>400.161</td>\n",
       "    </tr>\n",
       "    <tr>\n",
       "      <th>3</th>\n",
       "      <td>1973-04-01</td>\n",
       "      <td>125.462</td>\n",
       "      <td>Not Available</td>\n",
       "      <td>125.636</td>\n",
       "      <td>380.470</td>\n",
       "      <td>253.185</td>\n",
       "      <td>1.649</td>\n",
       "      <td>Not Available</td>\n",
       "      <td>Not Available</td>\n",
       "      <td>125.462</td>\n",
       "      <td>0.174</td>\n",
       "      <td>Not Available</td>\n",
       "      <td>125.636</td>\n",
       "      <td>380.470</td>\n",
       "    </tr>\n",
       "    <tr>\n",
       "      <th>4</th>\n",
       "      <td>1973-05-01</td>\n",
       "      <td>129.624</td>\n",
       "      <td>Not Available</td>\n",
       "      <td>129.834</td>\n",
       "      <td>392.141</td>\n",
       "      <td>260.770</td>\n",
       "      <td>1.537</td>\n",
       "      <td>Not Available</td>\n",
       "      <td>Not Available</td>\n",
       "      <td>129.624</td>\n",
       "      <td>0.210</td>\n",
       "      <td>Not Available</td>\n",
       "      <td>129.834</td>\n",
       "      <td>392.141</td>\n",
       "    </tr>\n",
       "    <tr>\n",
       "      <th>...</th>\n",
       "      <td>...</td>\n",
       "      <td>...</td>\n",
       "      <td>...</td>\n",
       "      <td>...</td>\n",
       "      <td>...</td>\n",
       "      <td>...</td>\n",
       "      <td>...</td>\n",
       "      <td>...</td>\n",
       "      <td>...</td>\n",
       "      <td>...</td>\n",
       "      <td>...</td>\n",
       "      <td>...</td>\n",
       "      <td>...</td>\n",
       "      <td>...</td>\n",
       "    </tr>\n",
       "    <tr>\n",
       "      <th>569</th>\n",
       "      <td>2020-06-01</td>\n",
       "      <td>180.782</td>\n",
       "      <td>164.111</td>\n",
       "      <td>377.859</td>\n",
       "      <td>1050.542</td>\n",
       "      <td>259.445</td>\n",
       "      <td>17.398</td>\n",
       "      <td>129.862</td>\n",
       "      <td>265.978</td>\n",
       "      <td>171.209</td>\n",
       "      <td>32.965</td>\n",
       "      <td>166.727</td>\n",
       "      <td>370.901</td>\n",
       "      <td>1043.584</td>\n",
       "    </tr>\n",
       "    <tr>\n",
       "      <th>570</th>\n",
       "      <td>2020-07-01</td>\n",
       "      <td>185.357</td>\n",
       "      <td>180.789</td>\n",
       "      <td>401.014</td>\n",
       "      <td>1006.388</td>\n",
       "      <td>247.114</td>\n",
       "      <td>18.120</td>\n",
       "      <td>139.094</td>\n",
       "      <td>201.045</td>\n",
       "      <td>178.210</td>\n",
       "      <td>34.868</td>\n",
       "      <td>179.397</td>\n",
       "      <td>392.475</td>\n",
       "      <td>997.849</td>\n",
       "    </tr>\n",
       "    <tr>\n",
       "      <th>571</th>\n",
       "      <td>2020-08-01</td>\n",
       "      <td>188.216</td>\n",
       "      <td>179.379</td>\n",
       "      <td>402.983</td>\n",
       "      <td>965.785</td>\n",
       "      <td>215.725</td>\n",
       "      <td>18.078</td>\n",
       "      <td>128.03</td>\n",
       "      <td>200.97</td>\n",
       "      <td>179.668</td>\n",
       "      <td>35.388</td>\n",
       "      <td>174.514</td>\n",
       "      <td>389.570</td>\n",
       "      <td>952.372</td>\n",
       "    </tr>\n",
       "    <tr>\n",
       "      <th>572</th>\n",
       "      <td>2020-09-01</td>\n",
       "      <td>182.834</td>\n",
       "      <td>175.381</td>\n",
       "      <td>391.618</td>\n",
       "      <td>894.957</td>\n",
       "      <td>170.798</td>\n",
       "      <td>17.585</td>\n",
       "      <td>108.597</td>\n",
       "      <td>206.359</td>\n",
       "      <td>172.654</td>\n",
       "      <td>33.403</td>\n",
       "      <td>173.836</td>\n",
       "      <td>379.893</td>\n",
       "      <td>883.232</td>\n",
       "    </tr>\n",
       "    <tr>\n",
       "      <th>573</th>\n",
       "      <td>2020-10-01</td>\n",
       "      <td>186.346</td>\n",
       "      <td>184.232</td>\n",
       "      <td>406.115</td>\n",
       "      <td>949.990</td>\n",
       "      <td>163.392</td>\n",
       "      <td>17.659</td>\n",
       "      <td>100.881</td>\n",
       "      <td>261.944</td>\n",
       "      <td>177.571</td>\n",
       "      <td>35.537</td>\n",
       "      <td>172.706</td>\n",
       "      <td>385.814</td>\n",
       "      <td>929.689</td>\n",
       "    </tr>\n",
       "  </tbody>\n",
       "</table>\n",
       "<p>574 rows × 14 columns</p>\n",
       "</div>"
      ],
      "text/plain": [
       "         Month  Wood Energy Production (Trillion Btu)  \\\n",
       "0   1973-01-01                                129.630   \n",
       "1   1973-02-01                                117.194   \n",
       "2   1973-03-01                                129.763   \n",
       "3   1973-04-01                                125.462   \n",
       "4   1973-05-01                                129.624   \n",
       "..         ...                                    ...   \n",
       "569 2020-06-01                                180.782   \n",
       "570 2020-07-01                                185.357   \n",
       "571 2020-08-01                                188.216   \n",
       "572 2020-09-01                                182.834   \n",
       "573 2020-10-01                                186.346   \n",
       "\n",
       "    Biofuels Production (Trillion Btu)  \\\n",
       "0                        Not Available   \n",
       "1                        Not Available   \n",
       "2                        Not Available   \n",
       "3                        Not Available   \n",
       "4                        Not Available   \n",
       "..                                 ...   \n",
       "569                            164.111   \n",
       "570                            180.789   \n",
       "571                            179.379   \n",
       "572                            175.381   \n",
       "573                            184.232   \n",
       "\n",
       "     Total Biomass Energy Production (Trillion Btu)  \\\n",
       "0                                           129.787   \n",
       "1                                           117.338   \n",
       "2                                           129.938   \n",
       "3                                           125.636   \n",
       "4                                           129.834   \n",
       "..                                              ...   \n",
       "569                                         377.859   \n",
       "570                                         401.014   \n",
       "571                                         402.983   \n",
       "572                                         391.618   \n",
       "573                                         406.115   \n",
       "\n",
       "     Total Renewable Energy Production (Trillion Btu)  \\\n",
       "0                                             403.981   \n",
       "1                                             360.900   \n",
       "2                                             400.161   \n",
       "3                                             380.470   \n",
       "4                                             392.141   \n",
       "..                                                ...   \n",
       "569                                          1050.542   \n",
       "570                                          1006.388   \n",
       "571                                           965.785   \n",
       "572                                           894.957   \n",
       "573                                           949.990   \n",
       "\n",
       "     Hydroelectric Power Consumption (Trillion Btu)  \\\n",
       "0                                           272.703   \n",
       "1                                           242.199   \n",
       "2                                           268.810   \n",
       "3                                           253.185   \n",
       "4                                           260.770   \n",
       "..                                              ...   \n",
       "569                                         259.445   \n",
       "570                                         247.114   \n",
       "571                                         215.725   \n",
       "572                                         170.798   \n",
       "573                                         163.392   \n",
       "\n",
       "     Geothermal Energy Consumption (Trillion Btu)  \\\n",
       "0                                           1.491   \n",
       "1                                           1.363   \n",
       "2                                           1.412   \n",
       "3                                           1.649   \n",
       "4                                           1.537   \n",
       "..                                            ...   \n",
       "569                                        17.398   \n",
       "570                                        18.120   \n",
       "571                                        18.078   \n",
       "572                                        17.585   \n",
       "573                                        17.659   \n",
       "\n",
       "    Solar Energy Consumption (Trillion Btu)  \\\n",
       "0                             Not Available   \n",
       "1                             Not Available   \n",
       "2                             Not Available   \n",
       "3                             Not Available   \n",
       "4                             Not Available   \n",
       "..                                      ...   \n",
       "569                                 129.862   \n",
       "570                                 139.094   \n",
       "571                                  128.03   \n",
       "572                                 108.597   \n",
       "573                                 100.881   \n",
       "\n",
       "    Wind Energy Consumption (Trillion Btu)  \\\n",
       "0                            Not Available   \n",
       "1                            Not Available   \n",
       "2                            Not Available   \n",
       "3                            Not Available   \n",
       "4                            Not Available   \n",
       "..                                     ...   \n",
       "569                                265.978   \n",
       "570                                201.045   \n",
       "571                                 200.97   \n",
       "572                                206.359   \n",
       "573                                261.944   \n",
       "\n",
       "     Wood Energy Consumption (Trillion Btu)  \\\n",
       "0                                   129.630   \n",
       "1                                   117.194   \n",
       "2                                   129.763   \n",
       "3                                   125.462   \n",
       "4                                   129.624   \n",
       "..                                      ...   \n",
       "569                                 171.209   \n",
       "570                                 178.210   \n",
       "571                                 179.668   \n",
       "572                                 172.654   \n",
       "573                                 177.571   \n",
       "\n",
       "     Waste Energy Consumption (Trillion Btu)  \\\n",
       "0                                      0.157   \n",
       "1                                      0.144   \n",
       "2                                      0.176   \n",
       "3                                      0.174   \n",
       "4                                      0.210   \n",
       "..                                       ...   \n",
       "569                                   32.965   \n",
       "570                                   34.868   \n",
       "571                                   35.388   \n",
       "572                                   33.403   \n",
       "573                                   35.537   \n",
       "\n",
       "    Biofuels Consumption (Trillion Btu)  \\\n",
       "0                         Not Available   \n",
       "1                         Not Available   \n",
       "2                         Not Available   \n",
       "3                         Not Available   \n",
       "4                         Not Available   \n",
       "..                                  ...   \n",
       "569                             166.727   \n",
       "570                             179.397   \n",
       "571                             174.514   \n",
       "572                             173.836   \n",
       "573                             172.706   \n",
       "\n",
       "     Total Biomass Energy Consumption (Trillion Btu)  \\\n",
       "0                                            129.787   \n",
       "1                                            117.338   \n",
       "2                                            129.938   \n",
       "3                                            125.636   \n",
       "4                                            129.834   \n",
       "..                                               ...   \n",
       "569                                          370.901   \n",
       "570                                          392.475   \n",
       "571                                          389.570   \n",
       "572                                          379.893   \n",
       "573                                          385.814   \n",
       "\n",
       "     Total Renewable Energy Consumption (Trillion Btu)  \n",
       "0                                              403.981  \n",
       "1                                              360.900  \n",
       "2                                              400.161  \n",
       "3                                              380.470  \n",
       "4                                              392.141  \n",
       "..                                                 ...  \n",
       "569                                           1043.584  \n",
       "570                                            997.849  \n",
       "571                                            952.372  \n",
       "572                                            883.232  \n",
       "573                                            929.689  \n",
       "\n",
       "[574 rows x 14 columns]"
      ]
     },
     "execution_count": 2,
     "metadata": {},
     "output_type": "execute_result"
    }
   ],
   "source": [
    "eiats = pd.read_excel(\"Table_10.1_Renewable_Energy_Production_and_Consumption_by_Source.xlsx\", \n",
    "                    sheet_name = \"Monthly Data\", parse_dates = ['Month'])\n",
    "eiats"
   ]
  },
  {
   "cell_type": "markdown",
   "metadata": {},
   "source": [
    "### QUESTION 1\n",
    "\n",
    "**You will work only with the following columns: Total Biomass Energy Production, Total Renewable Energy Production, Hydroelectric Power Consumption. Create a data frame structure with these three time series only. Use the command head() to verify your data.**"
   ]
  },
  {
   "cell_type": "code",
   "execution_count": 3,
   "metadata": {},
   "outputs": [
    {
     "data": {
      "text/html": [
       "<div>\n",
       "<style scoped>\n",
       "    .dataframe tbody tr th:only-of-type {\n",
       "        vertical-align: middle;\n",
       "    }\n",
       "\n",
       "    .dataframe tbody tr th {\n",
       "        vertical-align: top;\n",
       "    }\n",
       "\n",
       "    .dataframe thead th {\n",
       "        text-align: right;\n",
       "    }\n",
       "</style>\n",
       "<table border=\"1\" class=\"dataframe\">\n",
       "  <thead>\n",
       "    <tr style=\"text-align: right;\">\n",
       "      <th></th>\n",
       "      <th>Month</th>\n",
       "      <th>Total Biomass Energy Production (Trillion Btu)</th>\n",
       "      <th>Total Renewable Energy Production (Trillion Btu)</th>\n",
       "      <th>Hydroelectric Power Consumption (Trillion Btu)</th>\n",
       "    </tr>\n",
       "  </thead>\n",
       "  <tbody>\n",
       "    <tr>\n",
       "      <th>0</th>\n",
       "      <td>1973-01-01</td>\n",
       "      <td>129.787</td>\n",
       "      <td>403.981</td>\n",
       "      <td>272.703</td>\n",
       "    </tr>\n",
       "    <tr>\n",
       "      <th>1</th>\n",
       "      <td>1973-02-01</td>\n",
       "      <td>117.338</td>\n",
       "      <td>360.900</td>\n",
       "      <td>242.199</td>\n",
       "    </tr>\n",
       "    <tr>\n",
       "      <th>2</th>\n",
       "      <td>1973-03-01</td>\n",
       "      <td>129.938</td>\n",
       "      <td>400.161</td>\n",
       "      <td>268.810</td>\n",
       "    </tr>\n",
       "    <tr>\n",
       "      <th>3</th>\n",
       "      <td>1973-04-01</td>\n",
       "      <td>125.636</td>\n",
       "      <td>380.470</td>\n",
       "      <td>253.185</td>\n",
       "    </tr>\n",
       "    <tr>\n",
       "      <th>4</th>\n",
       "      <td>1973-05-01</td>\n",
       "      <td>129.834</td>\n",
       "      <td>392.141</td>\n",
       "      <td>260.770</td>\n",
       "    </tr>\n",
       "    <tr>\n",
       "      <th>...</th>\n",
       "      <td>...</td>\n",
       "      <td>...</td>\n",
       "      <td>...</td>\n",
       "      <td>...</td>\n",
       "    </tr>\n",
       "    <tr>\n",
       "      <th>569</th>\n",
       "      <td>2020-06-01</td>\n",
       "      <td>377.859</td>\n",
       "      <td>1050.542</td>\n",
       "      <td>259.445</td>\n",
       "    </tr>\n",
       "    <tr>\n",
       "      <th>570</th>\n",
       "      <td>2020-07-01</td>\n",
       "      <td>401.014</td>\n",
       "      <td>1006.388</td>\n",
       "      <td>247.114</td>\n",
       "    </tr>\n",
       "    <tr>\n",
       "      <th>571</th>\n",
       "      <td>2020-08-01</td>\n",
       "      <td>402.983</td>\n",
       "      <td>965.785</td>\n",
       "      <td>215.725</td>\n",
       "    </tr>\n",
       "    <tr>\n",
       "      <th>572</th>\n",
       "      <td>2020-09-01</td>\n",
       "      <td>391.618</td>\n",
       "      <td>894.957</td>\n",
       "      <td>170.798</td>\n",
       "    </tr>\n",
       "    <tr>\n",
       "      <th>573</th>\n",
       "      <td>2020-10-01</td>\n",
       "      <td>406.115</td>\n",
       "      <td>949.990</td>\n",
       "      <td>163.392</td>\n",
       "    </tr>\n",
       "  </tbody>\n",
       "</table>\n",
       "<p>574 rows × 4 columns</p>\n",
       "</div>"
      ],
      "text/plain": [
       "         Month  Total Biomass Energy Production (Trillion Btu)  \\\n",
       "0   1973-01-01                                         129.787   \n",
       "1   1973-02-01                                         117.338   \n",
       "2   1973-03-01                                         129.938   \n",
       "3   1973-04-01                                         125.636   \n",
       "4   1973-05-01                                         129.834   \n",
       "..         ...                                             ...   \n",
       "569 2020-06-01                                         377.859   \n",
       "570 2020-07-01                                         401.014   \n",
       "571 2020-08-01                                         402.983   \n",
       "572 2020-09-01                                         391.618   \n",
       "573 2020-10-01                                         406.115   \n",
       "\n",
       "     Total Renewable Energy Production (Trillion Btu)  \\\n",
       "0                                             403.981   \n",
       "1                                             360.900   \n",
       "2                                             400.161   \n",
       "3                                             380.470   \n",
       "4                                             392.141   \n",
       "..                                                ...   \n",
       "569                                          1050.542   \n",
       "570                                          1006.388   \n",
       "571                                           965.785   \n",
       "572                                           894.957   \n",
       "573                                           949.990   \n",
       "\n",
       "     Hydroelectric Power Consumption (Trillion Btu)  \n",
       "0                                           272.703  \n",
       "1                                           242.199  \n",
       "2                                           268.810  \n",
       "3                                           253.185  \n",
       "4                                           260.770  \n",
       "..                                              ...  \n",
       "569                                         259.445  \n",
       "570                                         247.114  \n",
       "571                                         215.725  \n",
       "572                                         170.798  \n",
       "573                                         163.392  \n",
       "\n",
       "[574 rows x 4 columns]"
      ]
     },
     "execution_count": 3,
     "metadata": {},
     "output_type": "execute_result"
    }
   ],
   "source": [
    "eiats = eiats.loc[:,['Month', 'Total Biomass Energy Production (Trillion Btu)', 'Total Renewable Energy Production (Trillion Btu)', \n",
    "               'Hydroelectric Power Consumption (Trillion Btu)']]\n",
    "eiats"
   ]
  },
  {
   "cell_type": "markdown",
   "metadata": {},
   "source": [
    "### QUESTION 2\n",
    "\n",
    "**Transform your data frame in a time series object and specify the starting point and frequency of the time series using the function ts().**"
   ]
  },
  {
   "cell_type": "code",
   "execution_count": 10,
   "metadata": {},
   "outputs": [],
   "source": [
    "eiats['Month'] = pd.to_datetime(eiats['Month']) "
   ]
  },
  {
   "cell_type": "code",
   "execution_count": 11,
   "metadata": {},
   "outputs": [
    {
     "data": {
      "text/plain": [
       "Month                                               datetime64[ns]\n",
       "Total Biomass Energy Production (Trillion Btu)             float64\n",
       "Total Renewable Energy Production (Trillion Btu)           float64\n",
       "Hydroelectric Power Consumption (Trillion Btu)             float64\n",
       "dtype: object"
      ]
     },
     "execution_count": 11,
     "metadata": {},
     "output_type": "execute_result"
    }
   ],
   "source": [
    "eiats.dtypes"
   ]
  },
  {
   "cell_type": "markdown",
   "metadata": {},
   "source": [
    "### QUESTION 3\n",
    "\n",
    "**Compute mean and standard deviation for these three series.**"
   ]
  },
  {
   "cell_type": "markdown",
   "metadata": {},
   "source": [
    "**MEAN and STANDARD DEVIATION**"
   ]
  },
  {
   "cell_type": "markdown",
   "metadata": {},
   "source": [
    "***Mean and standard deviation of Total Biomass Energy Production***"
   ]
  },
  {
   "cell_type": "markdown",
   "metadata": {},
   "source": [
    "***Mean***"
   ]
  },
  {
   "cell_type": "code",
   "execution_count": null,
   "metadata": {},
   "outputs": [],
   "source": [
    "a_mean = np.mean(eiats['Total Biomass Energy Production (Trillion Btu)'])\n",
    "a_mean"
   ]
  },
  {
   "cell_type": "markdown",
   "metadata": {},
   "source": [
    "***Standard Deviation***"
   ]
  },
  {
   "cell_type": "code",
   "execution_count": null,
   "metadata": {},
   "outputs": [],
   "source": [
    "a_stdev = np.std(eiats['Total Biomass Energy Production (Trillion Btu)'])\n",
    "a_stdev"
   ]
  },
  {
   "cell_type": "markdown",
   "metadata": {},
   "source": [
    "***Mean and standard deviation of Total Renewable Energy Production***"
   ]
  },
  {
   "cell_type": "markdown",
   "metadata": {},
   "source": [
    "***Mean***"
   ]
  },
  {
   "cell_type": "code",
   "execution_count": null,
   "metadata": {},
   "outputs": [],
   "source": [
    "b_mean = np.mean(eiats['Total Renewable Energy Production (Trillion Btu)'])\n",
    "b_mean"
   ]
  },
  {
   "cell_type": "markdown",
   "metadata": {},
   "source": [
    "***Standard Deviation***"
   ]
  },
  {
   "cell_type": "code",
   "execution_count": null,
   "metadata": {},
   "outputs": [],
   "source": [
    "b_stdev = np.std(eiats['Total Renewable Energy Production (Trillion Btu)'])\n",
    "b_stdev"
   ]
  },
  {
   "cell_type": "markdown",
   "metadata": {},
   "source": [
    "***Mean and standard deviation of Hydroelectric Power Consumption***"
   ]
  },
  {
   "cell_type": "markdown",
   "metadata": {},
   "source": [
    "***Mean***"
   ]
  },
  {
   "cell_type": "code",
   "execution_count": null,
   "metadata": {},
   "outputs": [],
   "source": [
    "c_mean = np.mean(eiats['Hydroelectric Power Consumption (Trillion Btu)'])\n",
    "c_mean"
   ]
  },
  {
   "cell_type": "markdown",
   "metadata": {},
   "source": [
    "***Standard Deviation***"
   ]
  },
  {
   "cell_type": "code",
   "execution_count": null,
   "metadata": {},
   "outputs": [],
   "source": [
    "c_stdev = np.std(eiats['Hydroelectric Power Consumption (Trillion Btu)'])\n",
    "c_stdev"
   ]
  },
  {
   "cell_type": "markdown",
   "metadata": {},
   "source": [
    "### QUESTION 4\n",
    "\n",
    "**Display and interpret the time series plot for each of these variables. Try to make your plot as informative as possible by writing titles, labels, etc. For each plot add a horizontal line at the mean of each series in a different color.**"
   ]
  },
  {
   "cell_type": "code",
   "execution_count": null,
   "metadata": {},
   "outputs": [],
   "source": [
    "plt.figure(figsize = (16,5))\n",
    "plt.plot(eiats['Month'], eiats['Total Biomass Energy Production (Trillion Btu)'], color = 'turquoise')\n",
    "plt.xlabel('Time')\n",
    "plt.ylabel('Total Biomass Energy Production (Trillion Btu)')\n",
    "plt.title('Plot for Total Biomass Energy Production (Trillion Btu)')\n",
    "plt.axhline(a_mean, color = 'midnightblue', linestyle = '--')"
   ]
  },
  {
   "cell_type": "code",
   "execution_count": null,
   "metadata": {},
   "outputs": [],
   "source": [
    "plt.figure(figsize = (16,5))\n",
    "plt.plot(eiats['Month'], eiats['Total Renewable Energy Production (Trillion Btu)'], color = 'turquoise')        \n",
    "plt.title('Plot for Total Renewable Energy Production (Trillion Btu)')\n",
    "plt.xlabel('Time')\n",
    "plt.ylabel('Total Renewable Energy Production (Trillion Btu)')\n",
    "plt.axhline(b_mean, color = 'midnightblue', linestyle = '--')"
   ]
  },
  {
   "cell_type": "code",
   "execution_count": null,
   "metadata": {},
   "outputs": [],
   "source": [
    "plt.figure(figsize=(16, 5))\n",
    "\n",
    "plt.plot(eiats['Month'], eiats['Hydroelectric Power Consumption (Trillion Btu)'], color = 'turquoise')\n",
    "plt.xlabel('Time')\n",
    "plt.ylabel('Hydroelectric Power Consumption (Trillion Btu)')\n",
    "plt.title('Plot for Hydroelectric Power Consumption (Trillion Btu)')\n",
    "plt.axhline(c_mean, color = 'midnightblue', linestyle = '--')\n"
   ]
  },
  {
   "cell_type": "markdown",
   "metadata": {},
   "source": [
    "### QUESTION 5\n",
    "\n",
    "**Compute the correlation between these three series. Are they significantly correlated? Ex- plain your answer.**\n",
    "\n",
    "\n",
    "*Correlation between Total Biomass Energy Production and Total Renewable Energy Production*"
   ]
  },
  {
   "cell_type": "code",
   "execution_count": null,
   "metadata": {},
   "outputs": [],
   "source": [
    "a_corr = np.corrcoef(eiats['Total Biomass Energy Production (Trillion Btu)'],\n",
    "                     eiats['Total Renewable Energy Production (Trillion Btu)'])\n",
    "a_corr"
   ]
  },
  {
   "cell_type": "markdown",
   "metadata": {},
   "source": [
    "A correlation of 0.92 indicates that there is a strong, positive correlation between Total Biomass Energy Production and Total Renewable Energy Production. It means that both the variables move in the same direction together."
   ]
  },
  {
   "cell_type": "markdown",
   "metadata": {},
   "source": [
    "*Correlation between Total Biomass Energy Production and Hydroelectric Power Consumption*"
   ]
  },
  {
   "cell_type": "code",
   "execution_count": null,
   "metadata": {},
   "outputs": [],
   "source": [
    "b_corr = np.corrcoef(eiats['Total Biomass Energy Production (Trillion Btu)'],\n",
    "                     eiats['Hydroelectric Power Consumption (Trillion Btu)'])\n",
    "b_corr"
   ]
  },
  {
   "cell_type": "markdown",
   "metadata": {},
   "source": [
    "A correlation of -0.255 indicates that there is a weak, negative correlation between Total Biomass Energy Production and Hydroelectric Power Consumption. It means that they do not move in the same direction together. This makes sense, because one variable is a measure of production , whereas, the other variable is a measure of consumption. Both these variables are of two completely different energies (one is of biomass, and the other is of hydroelectric)."
   ]
  },
  {
   "cell_type": "markdown",
   "metadata": {},
   "source": [
    "*Correlation between Total Renewable Energy Production and Hydroelectric Power Consumption*"
   ]
  },
  {
   "cell_type": "code",
   "execution_count": null,
   "metadata": {},
   "outputs": [],
   "source": [
    "c_corr = np.corrcoef(eiats['Total Renewable Energy Production (Trillion Btu)'],\n",
    "                     eiats['Hydroelectric Power Consumption (Trillion Btu)'])\n",
    "c_corr"
   ]
  },
  {
   "cell_type": "markdown",
   "metadata": {},
   "source": [
    "A correlation of -0.0027 indicates a very weak, negative correlation between Total Renewable Energy Production and Hydro- electric Power Consumption. It means that they do not move in the same direction together."
   ]
  },
  {
   "cell_type": "markdown",
   "metadata": {},
   "source": [
    "### QUESTION 6\n",
    "\n",
    "**Compute the autocorrelation function from lag 1 up to lag 40 for these three variables. What can you say about these plots? Do the three of them have the same behavior?**"
   ]
  },
  {
   "cell_type": "code",
   "execution_count": null,
   "metadata": {},
   "outputs": [],
   "source": [
    "ax = sm.graphics.tsa.plot_acf(eiats['Total Biomass Energy Production (Trillion Btu)'], lags=40,\n",
    "                        title = 'ACF of Total Biomass Energy Production (Trillion Btu)')"
   ]
  },
  {
   "cell_type": "markdown",
   "metadata": {},
   "source": [
    "ACF is a measure of dependence between two adjacent values of the same variables. In ACF, we talk about the same variable at different times. This plot tells us how the biomass production at a given time period is related to another time period. For instance, the correlation between first point at lag 1 and second point at lag 2 is 0.972.\n",
    "\n",
    "Hence, ACF tells us how correlated the points are with each other, based on how many time steps they are separated by. It is how correlated past data points are to the future data points, for different values of time separation."
   ]
  },
  {
   "cell_type": "code",
   "execution_count": null,
   "metadata": {},
   "outputs": [],
   "source": [
    "ax = sm.graphics.tsa.plot_acf(eiats['Total Renewable Energy Production (Trillion Btu)'], lags = 40,\n",
    "                        title = 'ACF of Total Renewable Energy Production (Trillion Btu)')"
   ]
  },
  {
   "cell_type": "markdown",
   "metadata": {},
   "source": [
    "It can be seen from this plot that there is not much difference in correlation between the total renewable energy production at two separate time periods. In this case, the correlation between first point at lag 1 and second point at lag 2 is 0.966.\n",
    "\n",
    "If we compare the ACF of total renewable energy production with total biomass energy production, we find that the points at different time intervals are highly autocorrelated in case of biomass energy production than total renewable energy production."
   ]
  },
  {
   "cell_type": "code",
   "execution_count": null,
   "metadata": {},
   "outputs": [],
   "source": [
    "ax = sm.graphics.tsa.plot_acf(eiats['Hydroelectric Power Consumption (Trillion Btu)'], lags = 40, \n",
    "                        title = 'ACF of Hydroelectric Power Consumption (Trillion Btu)')"
   ]
  },
  {
   "cell_type": "markdown",
   "metadata": {},
   "source": [
    "This ACF plot shows that there is very little correlation between the two variables at different time periods. For instance, the correlation between first point at lag 1 and second point at lag 2 is 0.802, and that between the first point and the third point at lag 3 is 0.550.\n",
    "\n",
    "It should also be noted that ACF for Hydroelectric Power Consumption shows a seasonality. That is the reason why the autocorrelation factor drops, increases, and then drops again.\n",
    "\n",
    "\n",
    "The three graphs do not showcase the same behavior. The ACF for total biomass energy production and total renewable energy production show a similar trend. The only thing is that the correlation of total renewable energy production is slightly lower than the total biomass energy production. However, the graph for hydroelectric power consumption is completely different than the other two. The hydroelectric power consumption shows a seasonal trend. That is the reason why it is rising, dropping, and then rising again."
   ]
  },
  {
   "cell_type": "markdown",
   "metadata": {},
   "source": [
    "### QUESTION 7\n",
    "\n",
    "**Compute the partial autocorrelation function from lag 1 to lag 40 for these three variables. How these plots differ from the ones in Q6?**"
   ]
  },
  {
   "cell_type": "code",
   "execution_count": null,
   "metadata": {},
   "outputs": [],
   "source": [
    "ax = plot_pacf(eiats['Total Biomass Energy Production (Trillion Btu)'], lags=40,\n",
    "         title = 'PACF of Total Biomass Energy Production (Trillion Btu)')"
   ]
  },
  {
   "cell_type": "code",
   "execution_count": null,
   "metadata": {},
   "outputs": [],
   "source": [
    "ax = sm.graphics.tsa.plot_pacf(eiats['Total Renewable Energy Production (Trillion Btu)'], lags = 40,\n",
    "                         title = 'PACF of Total Renewable Energy Production (Trillion Btu)')"
   ]
  },
  {
   "cell_type": "code",
   "execution_count": null,
   "metadata": {},
   "outputs": [],
   "source": [
    "ax = sm.graphics.tsa.plot_pacf(eiats['Hydroelectric Power Consumption (Trillion Btu)'], lags = 40,\n",
    "                         title = 'PACF of Hydroelectric Power Consumption (Trillion Btu)')"
   ]
  },
  {
   "cell_type": "markdown",
   "metadata": {},
   "source": [
    "Partial autocorrelation talks about the correlation between two points separated by some time period. PACF does not take into consideration the correlation of the points in-between them. Unlike ACF, the values of PACF try to be as close to zero as possible. PACF is important in order to know how one point is related to some other point in a distant future without the intervening terms.\n",
    "\n",
    "These plots vary considerably from the plots in Q6. The first plot shows a significant correlation between first and second point, followed by correlations that are not so significant. The pattern of PACF plot for total renewable energy production is similar to the total biomass energy production. The PACF plot for Hydroelectric Power Consumption is the same as its ACF plot.\n",
    "\n",
    "\n",
    "There is not much we can discover from the PACF plot alone. In order to analyze the data in a better way, we need to use ACF plot too. Together, we can know a lot about the data."
   ]
  }
 ],
 "metadata": {
  "kernelspec": {
   "display_name": "Python 3",
   "language": "python",
   "name": "python3"
  },
  "language_info": {
   "codemirror_mode": {
    "name": "ipython",
    "version": 3
   },
   "file_extension": ".py",
   "mimetype": "text/x-python",
   "name": "python",
   "nbconvert_exporter": "python",
   "pygments_lexer": "ipython3",
   "version": "3.8.5"
  }
 },
 "nbformat": 4,
 "nbformat_minor": 4
}
